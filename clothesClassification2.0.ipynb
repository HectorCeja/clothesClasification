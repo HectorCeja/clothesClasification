{
 "cells": [
  {
   "cell_type": "code",
   "execution_count": 1,
   "metadata": {},
   "outputs": [
    {
     "name": "stderr",
     "output_type": "stream",
     "text": [
      "/home/hectorceja/anaconda3/lib/python3.6/site-packages/h5py/__init__.py:36: FutureWarning: Conversion of the second argument of issubdtype from `float` to `np.floating` is deprecated. In future, it will be treated as `np.float64 == np.dtype(float).type`.\n",
      "  from ._conv import register_converters as _register_converters\n",
      "Using TensorFlow backend.\n"
     ]
    }
   ],
   "source": [
    "from tensorflow import keras\n",
    "from keras.datasets import mnist\n",
    "from tensorflow.keras.models import Sequential\n",
    "from tensorflow.keras.layers import Conv2D, MaxPooling2D, Dense, Dropout, Flatten\n",
    "import matplotlib.pyplot as plt\n",
    "\n",
    "batch_size = 128\n",
    "num_classes = 3\n",
    "epochs = 50\n",
    "\n",
    "img_rows, img_cols = 50, 50"
   ]
  },
  {
   "cell_type": "markdown",
   "metadata": {},
   "source": [
    "## importamos imagenes desde las carpetas"
   ]
  },
  {
   "cell_type": "code",
   "execution_count": 4,
   "metadata": {},
   "outputs": [
    {
     "name": "stderr",
     "output_type": "stream",
     "text": [
      "/home/hectorceja/anaconda3/lib/python3.6/site-packages/keras_preprocessing/image.py:492: UserWarning: grayscale is deprecated. Please use color_mode = \"grayscale\"\n",
      "  warnings.warn('grayscale is deprecated. Please use '\n"
     ]
    },
    {
     "name": "stdout",
     "output_type": "stream",
     "text": [
      "(50, 50, 1)\n"
     ]
    }
   ],
   "source": [
    "import os, os.path\n",
    "from sklearn.model_selection import train_test_split\n",
    "import numpy as np\n",
    "from keras.preprocessing import image\n",
    "\n",
    "x = []\n",
    "y = []\n",
    "valid_images = [\".png\"]\n",
    "\n",
    "path = \"data/pantalon\"\n",
    "for f in os.listdir(path):\n",
    "    ext = os.path.splitext(f)[1]\n",
    "    if ext.lower() not in valid_images:\n",
    "        continue\n",
    "    img = image.load_img(path=os.path.join(path,f),grayscale=True,target_size=(img_rows,img_cols,1))\n",
    "    img = image.img_to_array(img)    \n",
    "    x.append(img)\n",
    "    y.append(0)\n",
    "path = \"data/short\"\n",
    "for f in os.listdir(path):\n",
    "    ext = os.path.splitext(f)[1]\n",
    "    if ext.lower() not in valid_images:\n",
    "        continue\n",
    "    img = image.load_img(path=os.path.join(path,f),grayscale=True,target_size=(img_rows,img_cols,1))\n",
    "    img = image.img_to_array(img)    \n",
    "    x.append(img)\n",
    "    y.append(1)\n",
    "path = \"data/camisa\"\n",
    "for f in os.listdir(path):\n",
    "    ext = os.path.splitext(f)[1]\n",
    "    if ext.lower() not in valid_images:\n",
    "        continue\n",
    "    img = image.load_img(path=os.path.join(path,f),grayscale=True,target_size=(img_rows,img_cols,1))\n",
    "    img = image.img_to_array(img)\n",
    "    x.append(img)\n",
    "    y.append(2) \n",
    "    \n",
    "x_train, x_test, y_train, y_test = train_test_split(x, y, test_size=.2, random_state=20)\n",
    "\n",
    "x_train = np.asarray(x_train)\n",
    "y_train = np.asarray(y_train)\n",
    "x_test = np.asarray(x_test)\n",
    "y_test = np.asarray(y_test)\n",
    "\n",
    "x_train = x_train.reshape(x_train.shape[0], img_rows, img_cols, 1)\n",
    "x_test = x_test.reshape(x_test.shape[0], img_rows, img_cols, 1)\n",
    "\n",
    "input_shape = (img_rows, img_cols, 1)\n",
    "\n",
    "x_train /= 255\n",
    "x_test /= 255\n",
    "y_train = keras.utils.to_categorical(y_train, num_classes)\n",
    "y_test = keras.utils.to_categorical(y_test, num_classes)\n",
    "\n",
    "print(input_shape)"
   ]
  },
  {
   "cell_type": "markdown",
   "metadata": {},
   "source": [
    "## preparamos el modelo"
   ]
  },
  {
   "cell_type": "code",
   "execution_count": 6,
   "metadata": {},
   "outputs": [],
   "source": [
    "model = Sequential()\n",
    "model.add(Conv2D(32, kernel_size=(3, 3),\n",
    "                 activation='relu',\n",
    "                 input_shape=input_shape))\n",
    "model.add(Conv2D(64, (3, 3), activation='relu'))\n",
    "model.add(MaxPooling2D(pool_size=(2, 2)))\n",
    "model.add(Dropout(0.25))\n",
    "model.add(Flatten())\n",
    "model.add(Dense(128, activation='relu'))\n",
    "model.add(Dropout(0.5))\n",
    "model.add(Dense(num_classes, activation='softmax'))\n",
    "\n",
    "model.compile(loss=keras.losses.categorical_crossentropy,\n",
    "              optimizer=keras.optimizers.Adadelta(),\n",
    "              metrics=['accuracy'])"
   ]
  },
  {
   "cell_type": "markdown",
   "metadata": {},
   "source": [
    "## entrenamos el algoritmo"
   ]
  },
  {
   "cell_type": "code",
   "execution_count": 7,
   "metadata": {
    "scrolled": false
   },
   "outputs": [
    {
     "name": "stdout",
     "output_type": "stream",
     "text": [
      "Train on 184 samples, validate on 46 samples\n",
      "Epoch 1/50\n",
      "184/184 [==============================] - 13s 68ms/step - loss: 1.5441 - acc: 0.4076 - val_loss: 2.7357 - val_acc: 0.2391\n",
      "Epoch 2/50\n",
      "184/184 [==============================] - 9s 48ms/step - loss: 2.0973 - acc: 0.3207 - val_loss: 1.0664 - val_acc: 0.4348\n",
      "Epoch 3/50\n",
      "184/184 [==============================] - 8s 45ms/step - loss: 1.0721 - acc: 0.3804 - val_loss: 1.0357 - val_acc: 0.6087\n",
      "Epoch 4/50\n",
      "184/184 [==============================] - 11s 57ms/step - loss: 1.0264 - acc: 0.4511 - val_loss: 0.9944 - val_acc: 0.5652\n",
      "Epoch 5/50\n",
      "184/184 [==============================] - 11s 58ms/step - loss: 0.9719 - acc: 0.6250 - val_loss: 1.0023 - val_acc: 0.5000\n",
      "Epoch 6/50\n",
      "184/184 [==============================] - 11s 58ms/step - loss: 0.9305 - acc: 0.5815 - val_loss: 0.8844 - val_acc: 0.6739\n",
      "Epoch 7/50\n",
      "184/184 [==============================] - 12s 64ms/step - loss: 0.8720 - acc: 0.6413 - val_loss: 0.8828 - val_acc: 0.5870\n",
      "Epoch 8/50\n",
      "184/184 [==============================] - 11s 58ms/step - loss: 0.8190 - acc: 0.7011 - val_loss: 0.8014 - val_acc: 0.6522\n",
      "Epoch 9/50\n",
      "184/184 [==============================] - 9s 47ms/step - loss: 0.7284 - acc: 0.7120 - val_loss: 0.7495 - val_acc: 0.6739\n",
      "Epoch 10/50\n",
      "184/184 [==============================] - 9s 47ms/step - loss: 0.6820 - acc: 0.7174 - val_loss: 0.7440 - val_acc: 0.6522\n",
      "Epoch 11/50\n",
      "184/184 [==============================] - 9s 47ms/step - loss: 0.7343 - acc: 0.6576 - val_loss: 0.7541 - val_acc: 0.5000\n",
      "Epoch 12/50\n",
      "184/184 [==============================] - 8s 45ms/step - loss: 0.6765 - acc: 0.7011 - val_loss: 0.5818 - val_acc: 0.6957\n",
      "Epoch 13/50\n",
      "184/184 [==============================] - 8s 45ms/step - loss: 0.5408 - acc: 0.7935 - val_loss: 0.5446 - val_acc: 0.6957\n",
      "Epoch 14/50\n",
      "184/184 [==============================] - 8s 46ms/step - loss: 0.5179 - acc: 0.7880 - val_loss: 0.5361 - val_acc: 0.6957\n",
      "Epoch 15/50\n",
      "184/184 [==============================] - 8s 45ms/step - loss: 0.4694 - acc: 0.7989 - val_loss: 0.5687 - val_acc: 0.6957\n",
      "Epoch 16/50\n",
      "184/184 [==============================] - 8s 46ms/step - loss: 0.4463 - acc: 0.7989 - val_loss: 0.4119 - val_acc: 0.8913\n",
      "Epoch 17/50\n",
      "184/184 [==============================] - 8s 46ms/step - loss: 0.3864 - acc: 0.8804 - val_loss: 0.4006 - val_acc: 0.9348\n",
      "Epoch 18/50\n",
      "184/184 [==============================] - 8s 46ms/step - loss: 0.4174 - acc: 0.8370 - val_loss: 0.3473 - val_acc: 0.8913\n",
      "Epoch 19/50\n",
      "184/184 [==============================] - 9s 48ms/step - loss: 0.3026 - acc: 0.8913 - val_loss: 0.3134 - val_acc: 0.9130\n",
      "Epoch 20/50\n",
      "184/184 [==============================] - 9s 52ms/step - loss: 0.2791 - acc: 0.8967 - val_loss: 0.2944 - val_acc: 0.9565\n",
      "Epoch 21/50\n",
      "184/184 [==============================] - 10s 52ms/step - loss: 0.2954 - acc: 0.9130 - val_loss: 0.2897 - val_acc: 0.9565\n",
      "Epoch 22/50\n",
      "184/184 [==============================] - 8s 46ms/step - loss: 0.2419 - acc: 0.9348 - val_loss: 0.2422 - val_acc: 0.9783\n",
      "Epoch 23/50\n",
      "184/184 [==============================] - 9s 50ms/step - loss: 0.2516 - acc: 0.9239 - val_loss: 0.2676 - val_acc: 0.9130\n",
      "Epoch 24/50\n",
      "184/184 [==============================] - 10s 53ms/step - loss: 0.1967 - acc: 0.9348 - val_loss: 0.1977 - val_acc: 0.9130\n",
      "Epoch 25/50\n",
      "184/184 [==============================] - 11s 62ms/step - loss: 0.1601 - acc: 0.9620 - val_loss: 0.2364 - val_acc: 0.8913\n",
      "Epoch 26/50\n",
      "184/184 [==============================] - 9s 49ms/step - loss: 0.1566 - acc: 0.9674 - val_loss: 0.2461 - val_acc: 0.8913\n",
      "Epoch 27/50\n",
      "184/184 [==============================] - 12s 64ms/step - loss: 0.1412 - acc: 0.9620 - val_loss: 0.1856 - val_acc: 0.9348\n",
      "Epoch 28/50\n",
      "184/184 [==============================] - 9s 46ms/step - loss: 0.1543 - acc: 0.9293 - val_loss: 0.4580 - val_acc: 0.8043\n",
      "Epoch 29/50\n",
      "184/184 [==============================] - 8s 45ms/step - loss: 0.2345 - acc: 0.9076 - val_loss: 0.2137 - val_acc: 0.9130\n",
      "Epoch 30/50\n",
      "184/184 [==============================] - 8s 45ms/step - loss: 0.1547 - acc: 0.9565 - val_loss: 0.1470 - val_acc: 0.9565\n",
      "Epoch 31/50\n",
      "184/184 [==============================] - 8s 45ms/step - loss: 0.1421 - acc: 0.9620 - val_loss: 0.1490 - val_acc: 0.9565\n",
      "Epoch 32/50\n",
      "184/184 [==============================] - 8s 46ms/step - loss: 0.1241 - acc: 0.9728 - val_loss: 0.1192 - val_acc: 0.9783\n",
      "Epoch 33/50\n",
      "184/184 [==============================] - 9s 47ms/step - loss: 0.0760 - acc: 0.9728 - val_loss: 0.1153 - val_acc: 0.9783\n",
      "Epoch 34/50\n",
      "184/184 [==============================] - 8s 45ms/step - loss: 0.0682 - acc: 0.9891 - val_loss: 0.1089 - val_acc: 0.9783\n",
      "Epoch 35/50\n",
      "184/184 [==============================] - 8s 45ms/step - loss: 0.0796 - acc: 0.9891 - val_loss: 0.1205 - val_acc: 0.9783\n",
      "Epoch 36/50\n",
      "184/184 [==============================] - 9s 48ms/step - loss: 0.0648 - acc: 0.9837 - val_loss: 0.1943 - val_acc: 0.9348\n",
      "Epoch 37/50\n",
      "184/184 [==============================] - 11s 62ms/step - loss: 0.0837 - acc: 0.9837 - val_loss: 0.1011 - val_acc: 0.9783\n",
      "Epoch 38/50\n",
      "184/184 [==============================] - 9s 50ms/step - loss: 0.0641 - acc: 0.9891 - val_loss: 0.2163 - val_acc: 0.9348\n",
      "Epoch 39/50\n",
      "184/184 [==============================] - 8s 45ms/step - loss: 0.0852 - acc: 0.9891 - val_loss: 0.1059 - val_acc: 0.9783\n",
      "Epoch 40/50\n",
      "184/184 [==============================] - 9s 50ms/step - loss: 0.0483 - acc: 0.9946 - val_loss: 0.1584 - val_acc: 0.9783\n",
      "Epoch 41/50\n",
      "184/184 [==============================] - 10s 52ms/step - loss: 0.0816 - acc: 0.9728 - val_loss: 0.0730 - val_acc: 0.9783\n",
      "Epoch 42/50\n",
      "184/184 [==============================] - 10s 54ms/step - loss: 0.0416 - acc: 0.9946 - val_loss: 0.0793 - val_acc: 0.9565\n",
      "Epoch 43/50\n",
      "184/184 [==============================] - 10s 55ms/step - loss: 0.0614 - acc: 0.9783 - val_loss: 0.0947 - val_acc: 0.9783\n",
      "Epoch 44/50\n",
      "184/184 [==============================] - 10s 54ms/step - loss: 0.0408 - acc: 0.9891 - val_loss: 0.1085 - val_acc: 0.9783\n",
      "Epoch 45/50\n",
      "184/184 [==============================] - 10s 55ms/step - loss: 0.0311 - acc: 0.9946 - val_loss: 0.0982 - val_acc: 0.9565\n",
      "Epoch 46/50\n",
      "184/184 [==============================] - 10s 52ms/step - loss: 0.0487 - acc: 0.9783 - val_loss: 0.1184 - val_acc: 0.9783\n",
      "Epoch 47/50\n",
      "184/184 [==============================] - 10s 54ms/step - loss: 0.0359 - acc: 0.9946 - val_loss: 0.1129 - val_acc: 0.9565\n",
      "Epoch 48/50\n",
      "184/184 [==============================] - 10s 54ms/step - loss: 0.0398 - acc: 0.9891 - val_loss: 0.1138 - val_acc: 0.9783\n",
      "Epoch 49/50\n",
      "184/184 [==============================] - 9s 50ms/step - loss: 0.0443 - acc: 0.9946 - val_loss: 0.1212 - val_acc: 0.9783\n",
      "Epoch 50/50\n",
      "184/184 [==============================] - 9s 47ms/step - loss: 0.0290 - acc: 0.9946 - val_loss: 0.0869 - val_acc: 0.9783\n"
     ]
    },
    {
     "data": {
      "text/plain": [
       "<tensorflow.python.keras.callbacks.History at 0x7fcb750904a8>"
      ]
     },
     "execution_count": 7,
     "metadata": {},
     "output_type": "execute_result"
    }
   ],
   "source": [
    "model.fit(x_train, y_train,\n",
    "          batch_size=batch_size,\n",
    "          epochs=epochs,\n",
    "          verbose=1,\n",
    "          validation_data=(x_test, y_test))"
   ]
  },
  {
   "cell_type": "markdown",
   "metadata": {},
   "source": [
    "## El accuracy obtenido es de 97%"
   ]
  },
  {
   "cell_type": "code",
   "execution_count": 8,
   "metadata": {
    "scrolled": true
   },
   "outputs": [
    {
     "name": "stdout",
     "output_type": "stream",
     "text": [
      "Test loss: 0.08690129103058059\n",
      "Test accuracy: 0.9782608695652174\n"
     ]
    }
   ],
   "source": [
    "score = model.evaluate(x_test, y_test, verbose=0)\n",
    "print('Test loss:', score[0])\n",
    "print('Test accuracy:', score[1])"
   ]
  },
  {
   "cell_type": "markdown",
   "metadata": {},
   "source": [
    "## realizamos pruebas con imagenes no entrenadas"
   ]
  },
  {
   "cell_type": "code",
   "execution_count": 10,
   "metadata": {},
   "outputs": [
    {
     "name": "stderr",
     "output_type": "stream",
     "text": [
      "/home/hectorceja/anaconda3/lib/python3.6/site-packages/keras_preprocessing/image.py:492: UserWarning: grayscale is deprecated. Please use color_mode = \"grayscale\"\n",
      "  warnings.warn('grayscale is deprecated. Please use '\n"
     ]
    },
    {
     "name": "stdout",
     "output_type": "stream",
     "text": [
      "Class:  2\n"
     ]
    },
    {
     "data": {
      "image/png": "[encoded data removed]",
      "text/plain": [
       "<Figure size 432x288 with 1 Axes>"
      ]
     },
     "metadata": {},
     "output_type": "display_data"
    }
   ],
   "source": [
    "from keras.preprocessing import image\n",
    "\n",
    "img = image.load_img(path=\"data/test/camisa.png\",grayscale=True,target_size=(50,50,1))\n",
    "img = image.img_to_array(img)\n",
    "test_img = img.reshape(1, img_rows, img_cols, 1)\n",
    "img_class = model.predict_classes(test_img)\n",
    "prediction = img_class[0]\n",
    "classname = img_class[0]\n",
    "print(\"Class: \",classname)\n",
    "img = img.reshape((50,50))\n",
    "plt.imshow(img)\n",
    "plt.title(classname)\n",
    "plt.show()"
   ]
  },
  {
   "cell_type": "code",
   "execution_count": 11,
   "metadata": {},
   "outputs": [
    {
     "name": "stderr",
     "output_type": "stream",
     "text": [
      "/home/hectorceja/anaconda3/lib/python3.6/site-packages/keras_preprocessing/image.py:492: UserWarning: grayscale is deprecated. Please use color_mode = \"grayscale\"\n",
      "  warnings.warn('grayscale is deprecated. Please use '\n"
     ]
    },
    {
     "name": "stdout",
     "output_type": "stream",
     "text": [
      "Class:  0\n"
     ]
    },
    {
     "data": {
      "image/png": "[encoded data removed]",
      "text/plain": [
       "<Figure size 432x288 with 1 Axes>"
      ]
     },
     "metadata": {},
     "output_type": "display_data"
    }
   ],
   "source": [
    "from keras.preprocessing import image\n",
    "\n",
    "img = image.load_img(path=\"data/test/pantalon.png\",grayscale=True,target_size=(50,50,1))\n",
    "img = image.img_to_array(img)\n",
    "test_img = img.reshape(1, img_rows, img_cols, 1)\n",
    "img_class = model.predict_classes(test_img)\n",
    "prediction = img_class[0]\n",
    "classname = img_class[0]\n",
    "print(\"Class: \",classname)\n",
    "img = img.reshape((50,50))\n",
    "plt.imshow(img)\n",
    "plt.title(classname)\n",
    "plt.show()"
   ]
  },
  {
   "cell_type": "code",
   "execution_count": 12,
   "metadata": {},
   "outputs": [
    {
     "name": "stderr",
     "output_type": "stream",
     "text": [
      "/home/hectorceja/anaconda3/lib/python3.6/site-packages/keras_preprocessing/image.py:492: UserWarning: grayscale is deprecated. Please use color_mode = \"grayscale\"\n",
      "  warnings.warn('grayscale is deprecated. Please use '\n"
     ]
    },
    {
     "name": "stdout",
     "output_type": "stream",
     "text": [
      "Class:  1\n"
     ]
    },
    {
     "data": {
      "image/png": "[encoded data removed]",
      "text/plain": [
       "<Figure size 432x288 with 1 Axes>"
      ]
     },
     "metadata": {},
     "output_type": "display_data"
    }
   ],
   "source": [
    "from keras.preprocessing import image\n",
    "\n",
    "img = image.load_img(path=\"data/test/short.png\",grayscale=True,target_size=(50,50,1))\n",
    "img = image.img_to_array(img)\n",
    "test_img = img.reshape(1, img_rows, img_cols, 1)\n",
    "img_class = model.predict_classes(test_img)\n",
    "prediction = img_class[0]\n",
    "classname = img_class[0]\n",
    "print(\"Class: \",classname)\n",
    "img = img.reshape((50,50))\n",
    "plt.imshow(img)\n",
    "plt.title(classname)\n",
    "plt.show()"
   ]
  },
  {
   "cell_type": "code",
   "execution_count": null,
   "metadata": {},
   "outputs": [],
   "source": []
  }
 ],
 "metadata": {
  "kernelspec": {
   "display_name": "Python 3",
   "language": "python",
   "name": "python3"
  },
  "language_info": {
   "codemirror_mode": {
    "name": "ipython",
    "version": 3
   },
   "file_extension": ".py",
   "mimetype": "text/x-python",
   "name": "python",
   "nbconvert_exporter": "python",
   "pygments_lexer": "ipython3",
   "version": "3.6.5"
  }
 },
 "nbformat": 4,
 "nbformat_minor": 2
}
